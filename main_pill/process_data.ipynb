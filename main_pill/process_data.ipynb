{
 "cells": [
  {
   "cell_type": "code",
   "execution_count": 20,
   "metadata": {},
   "outputs": [
    {
     "data": {
      "text/html": [
       "<div>\n",
       "<style scoped>\n",
       "    .dataframe tbody tr th:only-of-type {\n",
       "        vertical-align: middle;\n",
       "    }\n",
       "\n",
       "    .dataframe tbody tr th {\n",
       "        vertical-align: top;\n",
       "    }\n",
       "\n",
       "    .dataframe thead th {\n",
       "        text-align: right;\n",
       "    }\n",
       "</style>\n",
       "<table border=\"1\" class=\"dataframe\">\n",
       "  <thead>\n",
       "    <tr style=\"text-align: right;\">\n",
       "      <th></th>\n",
       "      <th>pres_file_name</th>\n",
       "      <th>diagnose_concat</th>\n",
       "      <th>drugname_concat_TrOCR</th>\n",
       "      <th>usage_concat</th>\n",
       "      <th>quantity_concat</th>\n",
       "      <th>list_mapping</th>\n",
       "    </tr>\n",
       "  </thead>\n",
       "  <tbody>\n",
       "    <tr>\n",
       "      <th>0</th>\n",
       "      <td>VAIPE_P_TRAIN_0</td>\n",
       "      <td>Chấn đoán: T10 - Tăng huyết áp vô căn (nguyên ...</td>\n",
       "      <td>['1 ) RENAPRIL 5MG 5MG2) NOVOXIM-500 0,5G3 ) H...</td>\n",
       "      <td>Sáng 1 Viên Tối 2 Viên Sáng 2 Viên</td>\n",
       "      <td>SL: 28 Viên SL: 20 Viên SL: 20 Viên</td>\n",
       "      <td>[47, 10, 64, 107]</td>\n",
       "    </tr>\n",
       "    <tr>\n",
       "      <th>1</th>\n",
       "      <td>VAIPE_P_TRAIN_1</td>\n",
       "      <td>Chấn đoán: E11 - Bệnh đái tháo đường không phụ...</td>\n",
       "      <td>[\"1) GLUCOFAST 850 850MG2) DIAMICRON MR TAB 30...</td>\n",
       "      <td>Chiều 1 Viên Sáng 1 Viên Sáng 1 Viên Sáng 1 Viên</td>\n",
       "      <td>SL: 60 Viên SL: 30 Viên SL: 30 Viên</td>\n",
       "      <td>[55, 37, 46, 107]</td>\n",
       "    </tr>\n",
       "    <tr>\n",
       "      <th>2</th>\n",
       "      <td>VAIPE_P_TRAIN_10</td>\n",
       "      <td>Chẩn đoán: E11 - Bệnh đái tháo đường không phụ...</td>\n",
       "      <td>['1 ) MEGLUCON 1000 1000 MG']</td>\n",
       "      <td>Sáng 1 Viên</td>\n",
       "      <td>SL: 61 Viên</td>\n",
       "      <td>[56, 107]</td>\n",
       "    </tr>\n",
       "    <tr>\n",
       "      <th>3</th>\n",
       "      <td>VAIPE_P_TRAIN_100</td>\n",
       "      <td>Chấn đoán: [10 - Tăng huyết áp vô căn (nguyên ...</td>\n",
       "      <td>['1 ) TROYSAR AM 5MG +50MG2) LENINARTO 10 10MG...</td>\n",
       "      <td>Sáng 1 Viên Tối 1 Viên Chiều 1 Viên Sáng 1 Viên</td>\n",
       "      <td>SL: 30 Viên SL: 30 Viên SL: 20 Viên</td>\n",
       "      <td>[1, 14, 92, 107]</td>\n",
       "    </tr>\n",
       "    <tr>\n",
       "      <th>4</th>\n",
       "      <td>VAIPE_P_TRAIN_1000</td>\n",
       "      <td>Chẩn đoán: K12.3 - Viêm miệng (loét)</td>\n",
       "      <td>['1 ) CEFADROXIL 500MG 0,5G2) PARTAMOL TAB. 50...</td>\n",
       "      <td>Chiều 2 Viên Sáng 2 Viên Chiều 2 Viên Sáng 2 V...</td>\n",
       "      <td>SL: 28 Viên SL: 20 Viên</td>\n",
       "      <td>[43, 91, 107]</td>\n",
       "    </tr>\n",
       "  </tbody>\n",
       "</table>\n",
       "</div>"
      ],
      "text/plain": [
       "       pres_file_name                                    diagnose_concat  \\\n",
       "0     VAIPE_P_TRAIN_0  Chấn đoán: T10 - Tăng huyết áp vô căn (nguyên ...   \n",
       "1     VAIPE_P_TRAIN_1  Chấn đoán: E11 - Bệnh đái tháo đường không phụ...   \n",
       "2    VAIPE_P_TRAIN_10  Chẩn đoán: E11 - Bệnh đái tháo đường không phụ...   \n",
       "3   VAIPE_P_TRAIN_100  Chấn đoán: [10 - Tăng huyết áp vô căn (nguyên ...   \n",
       "4  VAIPE_P_TRAIN_1000              Chẩn đoán: K12.3 - Viêm miệng (loét)    \n",
       "\n",
       "                               drugname_concat_TrOCR  \\\n",
       "0  ['1 ) RENAPRIL 5MG 5MG2) NOVOXIM-500 0,5G3 ) H...   \n",
       "1  [\"1) GLUCOFAST 850 850MG2) DIAMICRON MR TAB 30...   \n",
       "2                      ['1 ) MEGLUCON 1000 1000 MG']   \n",
       "3  ['1 ) TROYSAR AM 5MG +50MG2) LENINARTO 10 10MG...   \n",
       "4  ['1 ) CEFADROXIL 500MG 0,5G2) PARTAMOL TAB. 50...   \n",
       "\n",
       "                                        usage_concat  \\\n",
       "0                Sáng 1 Viên Tối 2 Viên Sáng 2 Viên    \n",
       "1  Chiều 1 Viên Sáng 1 Viên Sáng 1 Viên Sáng 1 Viên    \n",
       "2                                       Sáng 1 Viên    \n",
       "3   Sáng 1 Viên Tối 1 Viên Chiều 1 Viên Sáng 1 Viên    \n",
       "4  Chiều 2 Viên Sáng 2 Viên Chiều 2 Viên Sáng 2 V...   \n",
       "\n",
       "                        quantity_concat       list_mapping  \n",
       "0  SL: 28 Viên SL: 20 Viên SL: 20 Viên   [47, 10, 64, 107]  \n",
       "1  SL: 60 Viên SL: 30 Viên SL: 30 Viên   [55, 37, 46, 107]  \n",
       "2                          SL: 61 Viên           [56, 107]  \n",
       "3  SL: 30 Viên SL: 30 Viên SL: 20 Viên    [1, 14, 92, 107]  \n",
       "4              SL: 28 Viên SL: 20 Viên       [43, 91, 107]  "
      ]
     },
     "execution_count": 20,
     "metadata": {},
     "output_type": "execute_result"
    }
   ],
   "source": [
    "import pandas as pd \n",
    "\n",
    "data_just_pill = pd.read_csv(\"/workspace/nabang1010/LBA_VAIPE/GNN/Multi_Label_Image_Recognition_with_Graph_Convolutional_Networks/data/public_train/data_GNN_XA_concat_mapping.csv\")\n",
    "data_just_pill.head()"
   ]
  },
  {
   "cell_type": "code",
   "execution_count": null,
   "metadata": {},
   "outputs": [],
   "source": []
  },
  {
   "cell_type": "markdown",
   "metadata": {},
   "source": [
    "# diagnose_concat\t"
   ]
  },
  {
   "cell_type": "code",
   "execution_count": 21,
   "metadata": {},
   "outputs": [
    {
     "name": "stderr",
     "output_type": "stream",
     "text": [
      "Special tokens have been added in the vocabulary, make sure the associated word embeddings are fine-tuned or trained.\n",
      "Some weights of the model checkpoint at vinai/phobert-base were not used when initializing RobertaModel: ['lm_head.layer_norm.weight', 'lm_head.bias', 'lm_head.decoder.weight', 'lm_head.layer_norm.bias', 'lm_head.dense.bias', 'lm_head.decoder.bias', 'lm_head.dense.weight']\n",
      "- This IS expected if you are initializing RobertaModel from the checkpoint of a model trained on another task or with another architecture (e.g. initializing a BertForSequenceClassification model from a BertForPreTraining model).\n",
      "- This IS NOT expected if you are initializing RobertaModel from the checkpoint of a model that you expect to be exactly identical (initializing a BertForSequenceClassification model from a BertForSequenceClassification model).\n"
     ]
    }
   ],
   "source": [
    "import torch\n",
    "# use PhoBERT to get embedding for each drugname\n",
    "from transformers import AutoTokenizer, AutoModel\n",
    "from tqdm import tqdm\n",
    "\n",
    "tokenizer_phobert = AutoTokenizer.from_pretrained(\"vinai/phobert-base\")\n",
    "model_phobert = AutoModel.from_pretrained(\"vinai/phobert-base\")\n",
    "\n",
    "\n"
   ]
  },
  {
   "cell_type": "code",
   "execution_count": 22,
   "metadata": {},
   "outputs": [
    {
     "name": "stderr",
     "output_type": "stream",
     "text": [
      "100%|██████████| 1173/1173 [00:46<00:00, 25.04it/s]\n"
     ]
    }
   ],
   "source": [
    "diagnose_embedding = []\n",
    "for diagnose in tqdm(data_just_pill[\"diagnose_concat\"]):\n",
    "    input_ids = torch.tensor(tokenizer_phobert.encode(diagnose, add_special_tokens=True)).unsqueeze(0)  # Batch size 1\n",
    "    outputs = model_phobert(input_ids)  \n",
    "    last_hidden_states = outputs[0]  # The last hidden-state is the first element of the output tuple\n",
    "    diagnose_embedding.append(last_hidden_states[0][0].detach().numpy().tolist())\n"
   ]
  },
  {
   "cell_type": "code",
   "execution_count": 23,
   "metadata": {},
   "outputs": [],
   "source": [
    "data_just_pill[\"diagnose_embedding\"] = diagnose_embedding"
   ]
  },
  {
   "cell_type": "code",
   "execution_count": 24,
   "metadata": {},
   "outputs": [
    {
     "data": {
      "text/html": [
       "<div>\n",
       "<style scoped>\n",
       "    .dataframe tbody tr th:only-of-type {\n",
       "        vertical-align: middle;\n",
       "    }\n",
       "\n",
       "    .dataframe tbody tr th {\n",
       "        vertical-align: top;\n",
       "    }\n",
       "\n",
       "    .dataframe thead th {\n",
       "        text-align: right;\n",
       "    }\n",
       "</style>\n",
       "<table border=\"1\" class=\"dataframe\">\n",
       "  <thead>\n",
       "    <tr style=\"text-align: right;\">\n",
       "      <th></th>\n",
       "      <th>pres_file_name</th>\n",
       "      <th>diagnose_concat</th>\n",
       "      <th>drugname_concat_TrOCR</th>\n",
       "      <th>usage_concat</th>\n",
       "      <th>quantity_concat</th>\n",
       "      <th>list_mapping</th>\n",
       "      <th>diagnose_embedding</th>\n",
       "    </tr>\n",
       "  </thead>\n",
       "  <tbody>\n",
       "    <tr>\n",
       "      <th>0</th>\n",
       "      <td>VAIPE_P_TRAIN_0</td>\n",
       "      <td>Chấn đoán: T10 - Tăng huyết áp vô căn (nguyên ...</td>\n",
       "      <td>['1 ) RENAPRIL 5MG 5MG2) NOVOXIM-500 0,5G3 ) H...</td>\n",
       "      <td>Sáng 1 Viên Tối 2 Viên Sáng 2 Viên</td>\n",
       "      <td>SL: 28 Viên SL: 20 Viên SL: 20 Viên</td>\n",
       "      <td>[47, 10, 64, 107]</td>\n",
       "      <td>[-0.37636616826057434, 0.010718670673668385, -...</td>\n",
       "    </tr>\n",
       "    <tr>\n",
       "      <th>1</th>\n",
       "      <td>VAIPE_P_TRAIN_1</td>\n",
       "      <td>Chấn đoán: E11 - Bệnh đái tháo đường không phụ...</td>\n",
       "      <td>[\"1) GLUCOFAST 850 850MG2) DIAMICRON MR TAB 30...</td>\n",
       "      <td>Chiều 1 Viên Sáng 1 Viên Sáng 1 Viên Sáng 1 Viên</td>\n",
       "      <td>SL: 60 Viên SL: 30 Viên SL: 30 Viên</td>\n",
       "      <td>[55, 37, 46, 107]</td>\n",
       "      <td>[-0.248085156083107, 0.3721701502799988, -0.49...</td>\n",
       "    </tr>\n",
       "    <tr>\n",
       "      <th>2</th>\n",
       "      <td>VAIPE_P_TRAIN_10</td>\n",
       "      <td>Chẩn đoán: E11 - Bệnh đái tháo đường không phụ...</td>\n",
       "      <td>['1 ) MEGLUCON 1000 1000 MG']</td>\n",
       "      <td>Sáng 1 Viên</td>\n",
       "      <td>SL: 61 Viên</td>\n",
       "      <td>[56, 107]</td>\n",
       "      <td>[-0.397485613822937, 0.2730478048324585, -0.83...</td>\n",
       "    </tr>\n",
       "    <tr>\n",
       "      <th>3</th>\n",
       "      <td>VAIPE_P_TRAIN_100</td>\n",
       "      <td>Chấn đoán: [10 - Tăng huyết áp vô căn (nguyên ...</td>\n",
       "      <td>['1 ) TROYSAR AM 5MG +50MG2) LENINARTO 10 10MG...</td>\n",
       "      <td>Sáng 1 Viên Tối 1 Viên Chiều 1 Viên Sáng 1 Viên</td>\n",
       "      <td>SL: 30 Viên SL: 30 Viên SL: 20 Viên</td>\n",
       "      <td>[1, 14, 92, 107]</td>\n",
       "      <td>[-0.22476842999458313, -0.08377768844366074, -...</td>\n",
       "    </tr>\n",
       "    <tr>\n",
       "      <th>4</th>\n",
       "      <td>VAIPE_P_TRAIN_1000</td>\n",
       "      <td>Chẩn đoán: K12.3 - Viêm miệng (loét)</td>\n",
       "      <td>['1 ) CEFADROXIL 500MG 0,5G2) PARTAMOL TAB. 50...</td>\n",
       "      <td>Chiều 2 Viên Sáng 2 Viên Chiều 2 Viên Sáng 2 V...</td>\n",
       "      <td>SL: 28 Viên SL: 20 Viên</td>\n",
       "      <td>[43, 91, 107]</td>\n",
       "      <td>[-0.0748608335852623, 0.2824253737926483, -0.6...</td>\n",
       "    </tr>\n",
       "  </tbody>\n",
       "</table>\n",
       "</div>"
      ],
      "text/plain": [
       "       pres_file_name                                    diagnose_concat  \\\n",
       "0     VAIPE_P_TRAIN_0  Chấn đoán: T10 - Tăng huyết áp vô căn (nguyên ...   \n",
       "1     VAIPE_P_TRAIN_1  Chấn đoán: E11 - Bệnh đái tháo đường không phụ...   \n",
       "2    VAIPE_P_TRAIN_10  Chẩn đoán: E11 - Bệnh đái tháo đường không phụ...   \n",
       "3   VAIPE_P_TRAIN_100  Chấn đoán: [10 - Tăng huyết áp vô căn (nguyên ...   \n",
       "4  VAIPE_P_TRAIN_1000              Chẩn đoán: K12.3 - Viêm miệng (loét)    \n",
       "\n",
       "                               drugname_concat_TrOCR  \\\n",
       "0  ['1 ) RENAPRIL 5MG 5MG2) NOVOXIM-500 0,5G3 ) H...   \n",
       "1  [\"1) GLUCOFAST 850 850MG2) DIAMICRON MR TAB 30...   \n",
       "2                      ['1 ) MEGLUCON 1000 1000 MG']   \n",
       "3  ['1 ) TROYSAR AM 5MG +50MG2) LENINARTO 10 10MG...   \n",
       "4  ['1 ) CEFADROXIL 500MG 0,5G2) PARTAMOL TAB. 50...   \n",
       "\n",
       "                                        usage_concat  \\\n",
       "0                Sáng 1 Viên Tối 2 Viên Sáng 2 Viên    \n",
       "1  Chiều 1 Viên Sáng 1 Viên Sáng 1 Viên Sáng 1 Viên    \n",
       "2                                       Sáng 1 Viên    \n",
       "3   Sáng 1 Viên Tối 1 Viên Chiều 1 Viên Sáng 1 Viên    \n",
       "4  Chiều 2 Viên Sáng 2 Viên Chiều 2 Viên Sáng 2 V...   \n",
       "\n",
       "                        quantity_concat       list_mapping  \\\n",
       "0  SL: 28 Viên SL: 20 Viên SL: 20 Viên   [47, 10, 64, 107]   \n",
       "1  SL: 60 Viên SL: 30 Viên SL: 30 Viên   [55, 37, 46, 107]   \n",
       "2                          SL: 61 Viên           [56, 107]   \n",
       "3  SL: 30 Viên SL: 30 Viên SL: 20 Viên    [1, 14, 92, 107]   \n",
       "4              SL: 28 Viên SL: 20 Viên       [43, 91, 107]   \n",
       "\n",
       "                                  diagnose_embedding  \n",
       "0  [-0.37636616826057434, 0.010718670673668385, -...  \n",
       "1  [-0.248085156083107, 0.3721701502799988, -0.49...  \n",
       "2  [-0.397485613822937, 0.2730478048324585, -0.83...  \n",
       "3  [-0.22476842999458313, -0.08377768844366074, -...  \n",
       "4  [-0.0748608335852623, 0.2824253737926483, -0.6...  "
      ]
     },
     "execution_count": 24,
     "metadata": {},
     "output_type": "execute_result"
    }
   ],
   "source": [
    "data_just_pill.head()"
   ]
  },
  {
   "cell_type": "markdown",
   "metadata": {},
   "source": [
    "# drugname concat"
   ]
  },
  {
   "cell_type": "code",
   "execution_count": 25,
   "metadata": {},
   "outputs": [
    {
     "name": "stderr",
     "output_type": "stream",
     "text": [
      "Some weights of the model checkpoint at bert-base-multilingual-cased were not used when initializing BertModel: ['cls.predictions.transform.LayerNorm.weight', 'cls.predictions.transform.LayerNorm.bias', 'cls.predictions.transform.dense.bias', 'cls.predictions.transform.dense.weight', 'cls.seq_relationship.weight', 'cls.predictions.bias', 'cls.seq_relationship.bias', 'cls.predictions.decoder.weight']\n",
      "- This IS expected if you are initializing BertModel from the checkpoint of a model trained on another task or with another architecture (e.g. initializing a BertForSequenceClassification model from a BertForPreTraining model).\n",
      "- This IS NOT expected if you are initializing BertModel from the checkpoint of a model that you expect to be exactly identical (initializing a BertForSequenceClassification model from a BertForSequenceClassification model).\n"
     ]
    }
   ],
   "source": [
    "# embedding by bert multilingual\n",
    "from transformers import BertTokenizer, BertModel\n",
    "\n",
    "tokenizer_bert_multilingual = BertTokenizer.from_pretrained('bert-base-multilingual-cased')\n",
    "model_bert_multilingual = BertModel.from_pretrained('bert-base-multilingual-cased')\n",
    "\n"
   ]
  },
  {
   "cell_type": "code",
   "execution_count": 26,
   "metadata": {},
   "outputs": [
    {
     "name": "stderr",
     "output_type": "stream",
     "text": [
      "100%|██████████| 1173/1173 [00:51<00:00, 22.68it/s]\n"
     ]
    }
   ],
   "source": [
    "drugname_embedding = []\n",
    "for drugname in tqdm(data_just_pill[\"drugname_concat_TrOCR\"]):\n",
    "    input_ids = torch.tensor(tokenizer_bert_multilingual.encode(drugname, add_special_tokens=True)).unsqueeze(0)  # Batch size 1\n",
    "    outputs = model_bert_multilingual(input_ids)  \n",
    "    last_hidden_states = outputs[0]  # The last hidden-state is the first element of the output tuple\n",
    "    drugname_embedding.append(last_hidden_states[0][0].detach().numpy().tolist())\n"
   ]
  },
  {
   "cell_type": "code",
   "execution_count": 27,
   "metadata": {},
   "outputs": [],
   "source": [
    "data_just_pill[\"drugname_embedding\"] = drugname_embedding"
   ]
  },
  {
   "cell_type": "code",
   "execution_count": 28,
   "metadata": {},
   "outputs": [
    {
     "data": {
      "text/html": [
       "<div>\n",
       "<style scoped>\n",
       "    .dataframe tbody tr th:only-of-type {\n",
       "        vertical-align: middle;\n",
       "    }\n",
       "\n",
       "    .dataframe tbody tr th {\n",
       "        vertical-align: top;\n",
       "    }\n",
       "\n",
       "    .dataframe thead th {\n",
       "        text-align: right;\n",
       "    }\n",
       "</style>\n",
       "<table border=\"1\" class=\"dataframe\">\n",
       "  <thead>\n",
       "    <tr style=\"text-align: right;\">\n",
       "      <th></th>\n",
       "      <th>pres_file_name</th>\n",
       "      <th>diagnose_concat</th>\n",
       "      <th>drugname_concat_TrOCR</th>\n",
       "      <th>usage_concat</th>\n",
       "      <th>quantity_concat</th>\n",
       "      <th>list_mapping</th>\n",
       "      <th>diagnose_embedding</th>\n",
       "      <th>drugname_embedding</th>\n",
       "    </tr>\n",
       "  </thead>\n",
       "  <tbody>\n",
       "    <tr>\n",
       "      <th>0</th>\n",
       "      <td>VAIPE_P_TRAIN_0</td>\n",
       "      <td>Chấn đoán: T10 - Tăng huyết áp vô căn (nguyên ...</td>\n",
       "      <td>['1 ) RENAPRIL 5MG 5MG2) NOVOXIM-500 0,5G3 ) H...</td>\n",
       "      <td>Sáng 1 Viên Tối 2 Viên Sáng 2 Viên</td>\n",
       "      <td>SL: 28 Viên SL: 20 Viên SL: 20 Viên</td>\n",
       "      <td>[47, 10, 64, 107]</td>\n",
       "      <td>[-0.37636616826057434, 0.010718670673668385, -...</td>\n",
       "      <td>[0.11103437095880508, -0.17049823701381683, -0...</td>\n",
       "    </tr>\n",
       "    <tr>\n",
       "      <th>1</th>\n",
       "      <td>VAIPE_P_TRAIN_1</td>\n",
       "      <td>Chấn đoán: E11 - Bệnh đái tháo đường không phụ...</td>\n",
       "      <td>[\"1) GLUCOFAST 850 850MG2) DIAMICRON MR TAB 30...</td>\n",
       "      <td>Chiều 1 Viên Sáng 1 Viên Sáng 1 Viên Sáng 1 Viên</td>\n",
       "      <td>SL: 60 Viên SL: 30 Viên SL: 30 Viên</td>\n",
       "      <td>[55, 37, 46, 107]</td>\n",
       "      <td>[-0.248085156083107, 0.3721701502799988, -0.49...</td>\n",
       "      <td>[-0.060159288346767426, -0.0621950589120388, -...</td>\n",
       "    </tr>\n",
       "    <tr>\n",
       "      <th>2</th>\n",
       "      <td>VAIPE_P_TRAIN_10</td>\n",
       "      <td>Chẩn đoán: E11 - Bệnh đái tháo đường không phụ...</td>\n",
       "      <td>['1 ) MEGLUCON 1000 1000 MG']</td>\n",
       "      <td>Sáng 1 Viên</td>\n",
       "      <td>SL: 61 Viên</td>\n",
       "      <td>[56, 107]</td>\n",
       "      <td>[-0.397485613822937, 0.2730478048324585, -0.83...</td>\n",
       "      <td>[0.13622930645942688, 0.08149611949920654, 0.0...</td>\n",
       "    </tr>\n",
       "    <tr>\n",
       "      <th>3</th>\n",
       "      <td>VAIPE_P_TRAIN_100</td>\n",
       "      <td>Chấn đoán: [10 - Tăng huyết áp vô căn (nguyên ...</td>\n",
       "      <td>['1 ) TROYSAR AM 5MG +50MG2) LENINARTO 10 10MG...</td>\n",
       "      <td>Sáng 1 Viên Tối 1 Viên Chiều 1 Viên Sáng 1 Viên</td>\n",
       "      <td>SL: 30 Viên SL: 30 Viên SL: 20 Viên</td>\n",
       "      <td>[1, 14, 92, 107]</td>\n",
       "      <td>[-0.22476842999458313, -0.08377768844366074, -...</td>\n",
       "      <td>[-0.017341794446110725, -0.15663300454616547, ...</td>\n",
       "    </tr>\n",
       "    <tr>\n",
       "      <th>4</th>\n",
       "      <td>VAIPE_P_TRAIN_1000</td>\n",
       "      <td>Chẩn đoán: K12.3 - Viêm miệng (loét)</td>\n",
       "      <td>['1 ) CEFADROXIL 500MG 0,5G2) PARTAMOL TAB. 50...</td>\n",
       "      <td>Chiều 2 Viên Sáng 2 Viên Chiều 2 Viên Sáng 2 V...</td>\n",
       "      <td>SL: 28 Viên SL: 20 Viên</td>\n",
       "      <td>[43, 91, 107]</td>\n",
       "      <td>[-0.0748608335852623, 0.2824253737926483, -0.6...</td>\n",
       "      <td>[0.1533374786376953, 0.015878086909651756, -0....</td>\n",
       "    </tr>\n",
       "  </tbody>\n",
       "</table>\n",
       "</div>"
      ],
      "text/plain": [
       "       pres_file_name                                    diagnose_concat  \\\n",
       "0     VAIPE_P_TRAIN_0  Chấn đoán: T10 - Tăng huyết áp vô căn (nguyên ...   \n",
       "1     VAIPE_P_TRAIN_1  Chấn đoán: E11 - Bệnh đái tháo đường không phụ...   \n",
       "2    VAIPE_P_TRAIN_10  Chẩn đoán: E11 - Bệnh đái tháo đường không phụ...   \n",
       "3   VAIPE_P_TRAIN_100  Chấn đoán: [10 - Tăng huyết áp vô căn (nguyên ...   \n",
       "4  VAIPE_P_TRAIN_1000              Chẩn đoán: K12.3 - Viêm miệng (loét)    \n",
       "\n",
       "                               drugname_concat_TrOCR  \\\n",
       "0  ['1 ) RENAPRIL 5MG 5MG2) NOVOXIM-500 0,5G3 ) H...   \n",
       "1  [\"1) GLUCOFAST 850 850MG2) DIAMICRON MR TAB 30...   \n",
       "2                      ['1 ) MEGLUCON 1000 1000 MG']   \n",
       "3  ['1 ) TROYSAR AM 5MG +50MG2) LENINARTO 10 10MG...   \n",
       "4  ['1 ) CEFADROXIL 500MG 0,5G2) PARTAMOL TAB. 50...   \n",
       "\n",
       "                                        usage_concat  \\\n",
       "0                Sáng 1 Viên Tối 2 Viên Sáng 2 Viên    \n",
       "1  Chiều 1 Viên Sáng 1 Viên Sáng 1 Viên Sáng 1 Viên    \n",
       "2                                       Sáng 1 Viên    \n",
       "3   Sáng 1 Viên Tối 1 Viên Chiều 1 Viên Sáng 1 Viên    \n",
       "4  Chiều 2 Viên Sáng 2 Viên Chiều 2 Viên Sáng 2 V...   \n",
       "\n",
       "                        quantity_concat       list_mapping  \\\n",
       "0  SL: 28 Viên SL: 20 Viên SL: 20 Viên   [47, 10, 64, 107]   \n",
       "1  SL: 60 Viên SL: 30 Viên SL: 30 Viên   [55, 37, 46, 107]   \n",
       "2                          SL: 61 Viên           [56, 107]   \n",
       "3  SL: 30 Viên SL: 30 Viên SL: 20 Viên    [1, 14, 92, 107]   \n",
       "4              SL: 28 Viên SL: 20 Viên       [43, 91, 107]   \n",
       "\n",
       "                                  diagnose_embedding  \\\n",
       "0  [-0.37636616826057434, 0.010718670673668385, -...   \n",
       "1  [-0.248085156083107, 0.3721701502799988, -0.49...   \n",
       "2  [-0.397485613822937, 0.2730478048324585, -0.83...   \n",
       "3  [-0.22476842999458313, -0.08377768844366074, -...   \n",
       "4  [-0.0748608335852623, 0.2824253737926483, -0.6...   \n",
       "\n",
       "                                  drugname_embedding  \n",
       "0  [0.11103437095880508, -0.17049823701381683, -0...  \n",
       "1  [-0.060159288346767426, -0.0621950589120388, -...  \n",
       "2  [0.13622930645942688, 0.08149611949920654, 0.0...  \n",
       "3  [-0.017341794446110725, -0.15663300454616547, ...  \n",
       "4  [0.1533374786376953, 0.015878086909651756, -0....  "
      ]
     },
     "execution_count": 28,
     "metadata": {},
     "output_type": "execute_result"
    }
   ],
   "source": [
    "data_just_pill.head()"
   ]
  },
  {
   "cell_type": "markdown",
   "metadata": {},
   "source": [
    "# quantity_concat\t"
   ]
  },
  {
   "cell_type": "code",
   "execution_count": 29,
   "metadata": {},
   "outputs": [],
   "source": [
    "# process quantity\n",
    "import re\n",
    "def keep_number_and_space(string):\n",
    "    return re.sub(\"[^0-9 ]\", \"\", string)\n",
    "\n",
    "def string_number_to_list(string):\n",
    "    string = \" \".join(string.split())\n",
    "    string = string.split(\" \")\n",
    "    return [int(i) for i in string]\n",
    "\n",
    "def padding_short_number_list(number_list, max_length=5):\n",
    "    if len(number_list) < max_length: \n",
    "        number_list += [0] * (max_length - len(number_list))\n",
    "    return number_list\n",
    "\n",
    "\n",
    "def process_quantity(quantity):\n",
    "    quantity = keep_number_and_space(quantity)\n",
    "    quantity = string_number_to_list(quantity)\n",
    "    quantity = padding_short_number_list(quantity)\n",
    "    return quantity\n",
    "\n"
   ]
  },
  {
   "cell_type": "code",
   "execution_count": 44,
   "metadata": {},
   "outputs": [],
   "source": [
    "quantity_list = []\n",
    "import numpy as np\n",
    "for quantity_line in data_just_pill[\"quantity_concat\"]:\n",
    "    quantity_embed  = process_quantity(quantity_line)\n",
    "    quantity_embed = np.array(quantity_embed)\n",
    "    quantity_list.append(quantity_embed.tolist())\n",
    "\n",
    "data_just_pill[\"quantity_embedding\"] = quantity_list"
   ]
  },
  {
   "cell_type": "code",
   "execution_count": 45,
   "metadata": {},
   "outputs": [
    {
     "data": {
      "text/html": [
       "<div>\n",
       "<style scoped>\n",
       "    .dataframe tbody tr th:only-of-type {\n",
       "        vertical-align: middle;\n",
       "    }\n",
       "\n",
       "    .dataframe tbody tr th {\n",
       "        vertical-align: top;\n",
       "    }\n",
       "\n",
       "    .dataframe thead th {\n",
       "        text-align: right;\n",
       "    }\n",
       "</style>\n",
       "<table border=\"1\" class=\"dataframe\">\n",
       "  <thead>\n",
       "    <tr style=\"text-align: right;\">\n",
       "      <th></th>\n",
       "      <th>pres_file_name</th>\n",
       "      <th>diagnose_concat</th>\n",
       "      <th>drugname_concat_TrOCR</th>\n",
       "      <th>usage_concat</th>\n",
       "      <th>quantity_concat</th>\n",
       "      <th>list_mapping</th>\n",
       "      <th>diagnose_embedding</th>\n",
       "      <th>drugname_embedding</th>\n",
       "      <th>quantity_embedding</th>\n",
       "    </tr>\n",
       "  </thead>\n",
       "  <tbody>\n",
       "    <tr>\n",
       "      <th>0</th>\n",
       "      <td>VAIPE_P_TRAIN_0</td>\n",
       "      <td>Chấn đoán: T10 - Tăng huyết áp vô căn (nguyên ...</td>\n",
       "      <td>['1 ) RENAPRIL 5MG 5MG2) NOVOXIM-500 0,5G3 ) H...</td>\n",
       "      <td>Sáng 1 Viên Tối 2 Viên Sáng 2 Viên</td>\n",
       "      <td>SL: 28 Viên SL: 20 Viên SL: 20 Viên</td>\n",
       "      <td>[47, 10, 64, 107]</td>\n",
       "      <td>[-0.37636616826057434, 0.010718670673668385, -...</td>\n",
       "      <td>[0.11103437095880508, -0.17049823701381683, -0...</td>\n",
       "      <td>[28, 20, 20, 0, 0]</td>\n",
       "    </tr>\n",
       "    <tr>\n",
       "      <th>1</th>\n",
       "      <td>VAIPE_P_TRAIN_1</td>\n",
       "      <td>Chấn đoán: E11 - Bệnh đái tháo đường không phụ...</td>\n",
       "      <td>[\"1) GLUCOFAST 850 850MG2) DIAMICRON MR TAB 30...</td>\n",
       "      <td>Chiều 1 Viên Sáng 1 Viên Sáng 1 Viên Sáng 1 Viên</td>\n",
       "      <td>SL: 60 Viên SL: 30 Viên SL: 30 Viên</td>\n",
       "      <td>[55, 37, 46, 107]</td>\n",
       "      <td>[-0.248085156083107, 0.3721701502799988, -0.49...</td>\n",
       "      <td>[-0.060159288346767426, -0.0621950589120388, -...</td>\n",
       "      <td>[60, 30, 30, 0, 0]</td>\n",
       "    </tr>\n",
       "    <tr>\n",
       "      <th>2</th>\n",
       "      <td>VAIPE_P_TRAIN_10</td>\n",
       "      <td>Chẩn đoán: E11 - Bệnh đái tháo đường không phụ...</td>\n",
       "      <td>['1 ) MEGLUCON 1000 1000 MG']</td>\n",
       "      <td>Sáng 1 Viên</td>\n",
       "      <td>SL: 61 Viên</td>\n",
       "      <td>[56, 107]</td>\n",
       "      <td>[-0.397485613822937, 0.2730478048324585, -0.83...</td>\n",
       "      <td>[0.13622930645942688, 0.08149611949920654, 0.0...</td>\n",
       "      <td>[61, 0, 0, 0, 0]</td>\n",
       "    </tr>\n",
       "    <tr>\n",
       "      <th>3</th>\n",
       "      <td>VAIPE_P_TRAIN_100</td>\n",
       "      <td>Chấn đoán: [10 - Tăng huyết áp vô căn (nguyên ...</td>\n",
       "      <td>['1 ) TROYSAR AM 5MG +50MG2) LENINARTO 10 10MG...</td>\n",
       "      <td>Sáng 1 Viên Tối 1 Viên Chiều 1 Viên Sáng 1 Viên</td>\n",
       "      <td>SL: 30 Viên SL: 30 Viên SL: 20 Viên</td>\n",
       "      <td>[1, 14, 92, 107]</td>\n",
       "      <td>[-0.22476842999458313, -0.08377768844366074, -...</td>\n",
       "      <td>[-0.017341794446110725, -0.15663300454616547, ...</td>\n",
       "      <td>[30, 30, 20, 0, 0]</td>\n",
       "    </tr>\n",
       "    <tr>\n",
       "      <th>4</th>\n",
       "      <td>VAIPE_P_TRAIN_1000</td>\n",
       "      <td>Chẩn đoán: K12.3 - Viêm miệng (loét)</td>\n",
       "      <td>['1 ) CEFADROXIL 500MG 0,5G2) PARTAMOL TAB. 50...</td>\n",
       "      <td>Chiều 2 Viên Sáng 2 Viên Chiều 2 Viên Sáng 2 V...</td>\n",
       "      <td>SL: 28 Viên SL: 20 Viên</td>\n",
       "      <td>[43, 91, 107]</td>\n",
       "      <td>[-0.0748608335852623, 0.2824253737926483, -0.6...</td>\n",
       "      <td>[0.1533374786376953, 0.015878086909651756, -0....</td>\n",
       "      <td>[28, 20, 0, 0, 0]</td>\n",
       "    </tr>\n",
       "  </tbody>\n",
       "</table>\n",
       "</div>"
      ],
      "text/plain": [
       "       pres_file_name                                    diagnose_concat  \\\n",
       "0     VAIPE_P_TRAIN_0  Chấn đoán: T10 - Tăng huyết áp vô căn (nguyên ...   \n",
       "1     VAIPE_P_TRAIN_1  Chấn đoán: E11 - Bệnh đái tháo đường không phụ...   \n",
       "2    VAIPE_P_TRAIN_10  Chẩn đoán: E11 - Bệnh đái tháo đường không phụ...   \n",
       "3   VAIPE_P_TRAIN_100  Chấn đoán: [10 - Tăng huyết áp vô căn (nguyên ...   \n",
       "4  VAIPE_P_TRAIN_1000              Chẩn đoán: K12.3 - Viêm miệng (loét)    \n",
       "\n",
       "                               drugname_concat_TrOCR  \\\n",
       "0  ['1 ) RENAPRIL 5MG 5MG2) NOVOXIM-500 0,5G3 ) H...   \n",
       "1  [\"1) GLUCOFAST 850 850MG2) DIAMICRON MR TAB 30...   \n",
       "2                      ['1 ) MEGLUCON 1000 1000 MG']   \n",
       "3  ['1 ) TROYSAR AM 5MG +50MG2) LENINARTO 10 10MG...   \n",
       "4  ['1 ) CEFADROXIL 500MG 0,5G2) PARTAMOL TAB. 50...   \n",
       "\n",
       "                                        usage_concat  \\\n",
       "0                Sáng 1 Viên Tối 2 Viên Sáng 2 Viên    \n",
       "1  Chiều 1 Viên Sáng 1 Viên Sáng 1 Viên Sáng 1 Viên    \n",
       "2                                       Sáng 1 Viên    \n",
       "3   Sáng 1 Viên Tối 1 Viên Chiều 1 Viên Sáng 1 Viên    \n",
       "4  Chiều 2 Viên Sáng 2 Viên Chiều 2 Viên Sáng 2 V...   \n",
       "\n",
       "                        quantity_concat       list_mapping  \\\n",
       "0  SL: 28 Viên SL: 20 Viên SL: 20 Viên   [47, 10, 64, 107]   \n",
       "1  SL: 60 Viên SL: 30 Viên SL: 30 Viên   [55, 37, 46, 107]   \n",
       "2                          SL: 61 Viên           [56, 107]   \n",
       "3  SL: 30 Viên SL: 30 Viên SL: 20 Viên    [1, 14, 92, 107]   \n",
       "4              SL: 28 Viên SL: 20 Viên       [43, 91, 107]   \n",
       "\n",
       "                                  diagnose_embedding  \\\n",
       "0  [-0.37636616826057434, 0.010718670673668385, -...   \n",
       "1  [-0.248085156083107, 0.3721701502799988, -0.49...   \n",
       "2  [-0.397485613822937, 0.2730478048324585, -0.83...   \n",
       "3  [-0.22476842999458313, -0.08377768844366074, -...   \n",
       "4  [-0.0748608335852623, 0.2824253737926483, -0.6...   \n",
       "\n",
       "                                  drugname_embedding  quantity_embedding  \n",
       "0  [0.11103437095880508, -0.17049823701381683, -0...  [28, 20, 20, 0, 0]  \n",
       "1  [-0.060159288346767426, -0.0621950589120388, -...  [60, 30, 30, 0, 0]  \n",
       "2  [0.13622930645942688, 0.08149611949920654, 0.0...    [61, 0, 0, 0, 0]  \n",
       "3  [-0.017341794446110725, -0.15663300454616547, ...  [30, 30, 20, 0, 0]  \n",
       "4  [0.1533374786376953, 0.015878086909651756, -0....   [28, 20, 0, 0, 0]  "
      ]
     },
     "execution_count": 45,
     "metadata": {},
     "output_type": "execute_result"
    }
   ],
   "source": [
    "data_just_pill.head()"
   ]
  },
  {
   "cell_type": "code",
   "execution_count": 46,
   "metadata": {},
   "outputs": [],
   "source": [
    "# save data  csv \n",
    "data_just_pill.to_csv(\"/workspace/nabang1010/LBA_VAIPE/GNN/Multi_Label_Image_Recognition_with_Graph_Convolutional_Networks/data/public_train/data_XA_embed_list.csv\", index=False) \n"
   ]
  },
  {
   "cell_type": "code",
   "execution_count": 47,
   "metadata": {},
   "outputs": [],
   "source": [
    "import pandas as pd\n",
    "data_full = pd.read_csv(\"/workspace/nabang1010/LBA_VAIPE/GNN/Multi_Label_Image_Recognition_with_Graph_Convolutional_Networks/data/public_train/data_XA_full.csv\")\n",
    "data_emb = pd.read_csv(\"/workspace/nabang1010/LBA_VAIPE/GNN/Multi_Label_Image_Recognition_with_Graph_Convolutional_Networks/data/public_train/data_XA_embed_list.csv\")"
   ]
  },
  {
   "cell_type": "code",
   "execution_count": 48,
   "metadata": {},
   "outputs": [
    {
     "name": "stdout",
     "output_type": "stream",
     "text": [
      "torch.Size([768])\n",
      "torch.Size([768])\n",
      "torch.Size([5])\n"
     ]
    }
   ],
   "source": [
    "import torch\n",
    "def check(idx):\n",
    "\n",
    "\n",
    "drugname_embedding, diagnose_embedding, quantity_embedding = check(2)\n",
    "print(drugname_embedding.shape)\n",
    "print(diagnose_embedding.shape)\n",
    "print(quantity_embedding.shape)"
   ]
  },
  {
   "cell_type": "code",
   "execution_count": 11,
   "metadata": {},
   "outputs": [],
   "source": [
    "import pandas as pd\n",
    "path = \"/workspace/nabang1010/LBA_VAIPE/GNN/Multi_Label_Image_Recognition_with_Graph_Convolutional_Networks/data/pill_classify/thuoc_thay_the.csv\"\n",
    "df = pd.read_csv(path, delimiter  = \"|\", header= None)"
   ]
  },
  {
   "cell_type": "code",
   "execution_count": 13,
   "metadata": {},
   "outputs": [],
   "source": [
    "df.head()\n",
    "\n",
    "# add column name [[\"drug_id\", \"drug_same\"]]\n",
    "df.columns = [\"drug_id\", \"drug_same\"]"
   ]
  },
  {
   "cell_type": "code",
   "execution_count": 16,
   "metadata": {},
   "outputs": [],
   "source": [
    "# df.to_csv(\"/workspace/nabang1010/LBA_VAIPE/GNN/Multi_Label_Image_Recognition_with_Graph_Convolutional_Networks/data/pill_classify/thuoc_thay_the.csv\")\n",
    "df = pd.read_csv(\"/workspace/nabang1010/LBA_VAIPE/GNN/Multi_Label_Image_Recognition_with_Graph_Convolutional_Networks/data/pill_classify/thuoc_thay_the.csv\")"
   ]
  },
  {
   "cell_type": "code",
   "execution_count": 17,
   "metadata": {},
   "outputs": [],
   "source": [
    "id_list = ['1' ,'2', '3']\n"
   ]
  },
  {
   "cell_type": "code",
   "execution_count": 40,
   "metadata": {},
   "outputs": [
    {
     "name": "stdout",
     "output_type": "stream",
     "text": [
      "1\n",
      "2\n",
      "3\n"
     ]
    },
    {
     "data": {
      "text/plain": [
       "[0, 1, 99, 101, 88, 89, 90, 91, 60, 2, 21]"
      ]
     },
     "execution_count": 40,
     "metadata": {},
     "output_type": "execute_result"
    }
   ],
   "source": [
    "id_list = [int(i) for i in id_list]\n",
    "same_all_list = []\n",
    "if 107 in id_list:\n",
    "    # remove 107\n",
    "    id_list.remove(107)\n",
    "\n",
    "for id in id_list:\n",
    "    print(id)\n",
    "    same_id_series =  df[df[\"drug_id\"] == id][\"drug_same\"]\n",
    "    if len(same_id_series) > 0:\n",
    "        same_id_list = eval(same_id_series.values[0])\n",
    "        same_all_list += same_id_list\n",
    "same_all_list\n"
   ]
  },
  {
   "cell_type": "code",
   "execution_count": 36,
   "metadata": {},
   "outputs": [
    {
     "data": {
      "text/plain": [
       "Series([], Name: drug_same, dtype: object)"
      ]
     },
     "execution_count": 36,
     "metadata": {},
     "output_type": "execute_result"
    }
   ],
   "source": [
    "ok = df[df[\"drug_id\"] == 3][\"drug_same\"]\n",
    "ok\n"
   ]
  },
  {
   "cell_type": "code",
   "execution_count": 54,
   "metadata": {},
   "outputs": [
    {
     "data": {
      "text/plain": [
       "0.7431870167378287"
      ]
     },
     "execution_count": 54,
     "metadata": {},
     "output_type": "execute_result"
    }
   ],
   "source": [
    "import random \n",
    "p = random.random()\n",
    "p"
   ]
  },
  {
   "cell_type": "code",
   "execution_count": 61,
   "metadata": {},
   "outputs": [
    {
     "data": {
      "text/plain": [
       "[43,\n",
       " 90,\n",
       " 5,\n",
       " 67,\n",
       " 10,\n",
       " 6,\n",
       " 18,\n",
       " 49,\n",
       " 83,\n",
       " 12,\n",
       " 37,\n",
       " 19,\n",
       " 32,\n",
       " 97,\n",
       " 52,\n",
       " 73,\n",
       " 27,\n",
       " 40,\n",
       " 96,\n",
       " 86,\n",
       " 31,\n",
       " 58,\n",
       " 91,\n",
       " 65,\n",
       " 16,\n",
       " 57,\n",
       " 50,\n",
       " 42,\n",
       " 103,\n",
       " 69,\n",
       " 95,\n",
       " 8,\n",
       " 0,\n",
       " 79,\n",
       " 41,\n",
       " 39,\n",
       " 3,\n",
       " 47,\n",
       " 92,\n",
       " 106,\n",
       " 55,\n",
       " 99,\n",
       " 105,\n",
       " 20,\n",
       " 59,\n",
       " 61,\n",
       " 89,\n",
       " 15,\n",
       " 60,\n",
       " 84,\n",
       " 74,\n",
       " 38,\n",
       " 4,\n",
       " 53,\n",
       " 33,\n",
       " 13,\n",
       " 63,\n",
       " 45,\n",
       " 30,\n",
       " 54,\n",
       " 93,\n",
       " 77,\n",
       " 87,\n",
       " 46,\n",
       " 71,\n",
       " 56,\n",
       " 14,\n",
       " 22,\n",
       " 34,\n",
       " 66,\n",
       " 44,\n",
       " 29,\n",
       " 2,\n",
       " 78,\n",
       " 72,\n",
       " 23,\n",
       " 35,\n",
       " 64,\n",
       " 102,\n",
       " 94,\n",
       " 68,\n",
       " 62,\n",
       " 101,\n",
       " 36,\n",
       " 26,\n",
       " 76,\n",
       " 81,\n",
       " 21,\n",
       " 104,\n",
       " 25,\n",
       " 82,\n",
       " 48,\n",
       " 85,\n",
       " 17,\n",
       " 70,\n",
       " 7,\n",
       " 9,\n",
       " 80,\n",
       " 24,\n",
       " 88,\n",
       " 11,\n",
       " 51,\n",
       " 100,\n",
       " 75,\n",
       " 1,\n",
       " 98,\n",
       " 28]"
      ]
     },
     "execution_count": 61,
     "metadata": {},
     "output_type": "execute_result"
    }
   ],
   "source": [
    "path = \"/workspace/nabang1010/LBA_VAIPE/GNN/Multi_Label_Image_Recognition_with_Graph_Convolutional_Networks/data/pill_classify/data_classification_fixed_aug\"\n",
    "import os\n",
    "folder_list =  os.listdir(path)\n",
    "folder_list = [int(i) for i in folder_list]\n",
    "folder_list"
   ]
  },
  {
   "cell_type": "code",
   "execution_count": 62,
   "metadata": {},
   "outputs": [
    {
     "data": {
      "text/plain": [
       "[0,\n",
       " 1,\n",
       " 2,\n",
       " 3,\n",
       " 4,\n",
       " 5,\n",
       " 6,\n",
       " 7,\n",
       " 8,\n",
       " 9,\n",
       " 10,\n",
       " 11,\n",
       " 12,\n",
       " 13,\n",
       " 14,\n",
       " 15,\n",
       " 16,\n",
       " 17,\n",
       " 18,\n",
       " 19,\n",
       " 20,\n",
       " 21,\n",
       " 22,\n",
       " 23,\n",
       " 24,\n",
       " 25,\n",
       " 26,\n",
       " 27,\n",
       " 28,\n",
       " 29,\n",
       " 30,\n",
       " 31,\n",
       " 32,\n",
       " 33,\n",
       " 34,\n",
       " 35,\n",
       " 36,\n",
       " 37,\n",
       " 38,\n",
       " 39,\n",
       " 40,\n",
       " 41,\n",
       " 42,\n",
       " 43,\n",
       " 44,\n",
       " 45,\n",
       " 46,\n",
       " 47,\n",
       " 48,\n",
       " 49,\n",
       " 50,\n",
       " 51,\n",
       " 52,\n",
       " 53,\n",
       " 54,\n",
       " 55,\n",
       " 56,\n",
       " 57,\n",
       " 58,\n",
       " 59,\n",
       " 60,\n",
       " 61,\n",
       " 62,\n",
       " 63,\n",
       " 64,\n",
       " 65,\n",
       " 66,\n",
       " 67,\n",
       " 68,\n",
       " 69,\n",
       " 70,\n",
       " 71,\n",
       " 72,\n",
       " 73,\n",
       " 74,\n",
       " 75,\n",
       " 76,\n",
       " 77,\n",
       " 78,\n",
       " 79,\n",
       " 80,\n",
       " 81,\n",
       " 82,\n",
       " 83,\n",
       " 84,\n",
       " 85,\n",
       " 86,\n",
       " 87,\n",
       " 88,\n",
       " 89,\n",
       " 90,\n",
       " 91,\n",
       " 92,\n",
       " 93,\n",
       " 94,\n",
       " 95,\n",
       " 96,\n",
       " 97,\n",
       " 98,\n",
       " 99,\n",
       " 100,\n",
       " 101,\n",
       " 102,\n",
       " 103,\n",
       " 104,\n",
       " 105,\n",
       " 106,\n",
       " 107]"
      ]
     },
     "execution_count": 62,
     "metadata": {},
     "output_type": "execute_result"
    }
   ],
   "source": [
    "# list 0 to 107 \n",
    "import numpy as np\n",
    "id_list = np.arange(0, 108, 1)\n",
    "id_list = [int(i) for i in id_list]\n",
    "id_list\n"
   ]
  },
  {
   "cell_type": "code",
   "execution_count": 63,
   "metadata": {},
   "outputs": [
    {
     "name": "stdout",
     "output_type": "stream",
     "text": [
      "107\n"
     ]
    }
   ],
   "source": [
    "# check id not in in_list \n",
    "for id in id_list:\n",
    "    if id not in folder_list:\n",
    "        print(id)"
   ]
  },
  {
   "cell_type": "code",
   "execution_count": 10,
   "metadata": {},
   "outputs": [],
   "source": [
    "path = \"/workspace/nabang1010/LBA_VAIPE/GNN/Multi_Label_Image_Recognition_with_Graph_Convolutional_Networks/data/pill_classify/data_classification_fixed_aug\"\n",
    "\n",
    "#count image in each folder\n",
    "import os\n",
    "folder_list =  os.listdir(path)\n",
    "folder_list = [int(i) for i in folder_list]\n",
    "folder_list.sort()\n",
    "count_image_list = []\n",
    "for folder in folder_list:\n",
    "    path_folder = os.path.join(path, str(folder))\n",
    "    image_len = len(os.listdir(path_folder))\n",
    "    if image_len == 500:\n",
    "        image_len = 1000\n",
    "    count_image_list.append(image_len)\n"
   ]
  },
  {
   "cell_type": "code",
   "execution_count": 11,
   "metadata": {},
   "outputs": [
    {
     "name": "stdout",
     "output_type": "stream",
     "text": [
      "Collecting seaborn\n",
      "  Downloading seaborn-0.12.0-py3-none-any.whl (285 kB)\n",
      "\u001b[2K     \u001b[90m━━━━━━━━━━━━━━━━━━━━━━━━━━━━━━━━━━━━━━━\u001b[0m \u001b[32m285.1/285.1 kB\u001b[0m \u001b[31m2.1 MB/s\u001b[0m eta \u001b[36m0:00:00\u001b[0ma \u001b[36m0:00:01\u001b[0m\n",
      "\u001b[?25hRequirement already satisfied: matplotlib>=3.1 in /root/anaconda3/envs/mlgcn/lib/python3.7/site-packages (from seaborn) (3.5.3)\n",
      "Requirement already satisfied: pandas>=0.25 in /root/anaconda3/envs/mlgcn/lib/python3.7/site-packages (from seaborn) (1.3.5)\n",
      "Requirement already satisfied: numpy>=1.17 in /root/anaconda3/envs/mlgcn/lib/python3.7/site-packages (from seaborn) (1.21.6)\n",
      "Requirement already satisfied: typing_extensions in /root/anaconda3/envs/mlgcn/lib/python3.7/site-packages (from seaborn) (4.3.0)\n",
      "Requirement already satisfied: packaging>=20.0 in /root/anaconda3/envs/mlgcn/lib/python3.7/site-packages (from matplotlib>=3.1->seaborn) (21.3)\n",
      "Requirement already satisfied: cycler>=0.10 in /root/anaconda3/envs/mlgcn/lib/python3.7/site-packages (from matplotlib>=3.1->seaborn) (0.11.0)\n",
      "Requirement already satisfied: kiwisolver>=1.0.1 in /root/anaconda3/envs/mlgcn/lib/python3.7/site-packages (from matplotlib>=3.1->seaborn) (1.4.4)\n",
      "Requirement already satisfied: pyparsing>=2.2.1 in /root/anaconda3/envs/mlgcn/lib/python3.7/site-packages (from matplotlib>=3.1->seaborn) (3.0.9)\n",
      "Requirement already satisfied: python-dateutil>=2.7 in /root/anaconda3/envs/mlgcn/lib/python3.7/site-packages (from matplotlib>=3.1->seaborn) (2.8.2)\n",
      "Requirement already satisfied: fonttools>=4.22.0 in /root/anaconda3/envs/mlgcn/lib/python3.7/site-packages (from matplotlib>=3.1->seaborn) (4.37.1)\n",
      "Requirement already satisfied: pillow>=6.2.0 in /root/anaconda3/envs/mlgcn/lib/python3.7/site-packages (from matplotlib>=3.1->seaborn) (9.2.0)\n",
      "Requirement already satisfied: pytz>=2017.3 in /root/anaconda3/envs/mlgcn/lib/python3.7/site-packages (from pandas>=0.25->seaborn) (2022.2.1)\n",
      "Requirement already satisfied: six>=1.5 in /root/anaconda3/envs/mlgcn/lib/python3.7/site-packages (from python-dateutil>=2.7->matplotlib>=3.1->seaborn) (1.16.0)\n",
      "Installing collected packages: seaborn\n",
      "Successfully installed seaborn-0.12.0\n",
      "\u001b[33mWARNING: Running pip as the 'root' user can result in broken permissions and conflicting behaviour with the system package manager. It is recommended to use a virtual environment instead: https://pip.pypa.io/warnings/venv\u001b[0m\u001b[33m\n",
      "\u001b[0m"
     ]
    }
   ],
   "source": [
    "! pip install seaborn"
   ]
  },
  {
   "cell_type": "code",
   "execution_count": 12,
   "metadata": {},
   "outputs": [
    {
     "data": {
      "image/png": "[encoded data removed]",
      "text/plain": [
       "<Figure size 2000x1000 with 1 Axes>"
      ]
     },
     "metadata": {},
     "output_type": "display_data"
    }
   ],
   "source": [
    "import seaborn\n",
    "import matplotlib.pyplot as plt\n",
    "plt.figure(figsize=(20, 10))\n",
    "seaborn.barplot(x=folder_list, y=count_image_list)\n",
    "plt.show()"
   ]
  },
  {
   "cell_type": "code",
   "execution_count": null,
   "metadata": {},
   "outputs": [],
   "source": []
  }
 ],
 "metadata": {
  "kernelspec": {
   "display_name": "Python 3.7.13 ('mlgcn')",
   "language": "python",
   "name": "python3"
  },
  "language_info": {
   "codemirror_mode": {
    "name": "ipython",
    "version": 3
   },
   "file_extension": ".py",
   "mimetype": "text/x-python",
   "name": "python",
   "nbconvert_exporter": "python",
   "pygments_lexer": "ipython3",
   "version": "3.7.13"
  },
  "orig_nbformat": 4,
  "vscode": {
   "interpreter": {
    "hash": "6cedbfb0e0ac2eb4f7b1d9c0249dd0fd66d35d446191a62bae15cf4a14659a06"
   }
  }
 },
 "nbformat": 4,
 "nbformat_minor": 2
}
